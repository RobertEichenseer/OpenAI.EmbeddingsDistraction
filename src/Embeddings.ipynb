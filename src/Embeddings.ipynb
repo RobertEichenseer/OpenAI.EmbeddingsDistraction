{
 "cells": [
  {
   "cell_type": "markdown",
   "metadata": {},
   "source": [
    "# OpenAI: Composing data for embeddings\n",
    "\n",
    "## Intro\n",
    "\n",
    "A simplified sample to show how composing input for embeddings affects vector searches\n",
    "\n",
    "### Step 1: Azure environment\n",
    "\n",
    "This [Azure CLI script](../CreateEnv/CreateEnv.azcli) creates:\n",
    "\n",
    "- an Azure Open AI instance\n",
    "- deploys text-embedding-ada-002 to calculate embeddings\n",
    "\n",
    "The script provides necessary credentials to connect to Azure OpenAI (e.g. API key and endpoint information) and stores them in environment variables.\n",
    "```azurecli\n",
    "$ENV:AZURE_OPENAI_ENDPOINT = $csEndpoint\n",
    "$ENV:AZURE_OPENAI_API_KEY = $csApiKey\n",
    "$ENV:AZURE_OPENAI_DEPLOYMENTNAME = $modelDeploymentName\n",
    "``````\n",
    "\n",
    "### Step 2: Housekeeping \n",
    "\n",
    "- Import nuget packages\n",
    "- Define arbitrary facts \n",
    "- Create an instance of ***OpenAIClient()***\n",
    "\n",
    "Replace `apiEndpoint`, `apiKey` and `embeddingModelDeploymentName` with values from your Azure OpenAI instance."
   ]
  },
  {
   "cell_type": "code",
   "execution_count": 2,
   "metadata": {
    "dotnet_interactive": {
     "language": "csharp"
    },
    "polyglot_notebook": {
     "kernelName": "csharp"
    }
   },
   "outputs": [
    {
     "data": {
      "text/html": [
       "<div><div></div><div></div><div><strong>Installed Packages</strong><ul><li><span>Azure.AI.OpenAI, 1.0.0-beta.6</span></li><li><span>MathNet.Numerics, 5.0.0</span></li></ul></div></div>"
      ]
     },
     "metadata": {},
     "output_type": "display_data"
    }
   ],
   "source": [
    "#r \"nuget: Azure.AI.OpenAI, 1.0.0-beta.6\"\n",
    "#r \"nuget: MathNet.Numerics, 5.0.0\"\n",
    "\n",
    "using System.IO;\n",
    "using Azure.AI.OpenAI;\n",
    "using Azure;\n",
    "using MathNet.Numerics; \n",
    "\n",
    "//Define Azure OpenAI information\n",
    "Uri apiEndpoint = new Uri(\"https://Your_Azure_OpenAI_API_endpoint\");\n",
    "string apiKey = \"<<Your Azure OpenAI API key>>\";\n",
    "string embeddingModelDeploymentName = \"<<your Azure OpenAI embedding deployment name>>\";\n",
    "\n",
    "AzureKeyCredential azureKeyCredential = new AzureKeyCredential(apiKey);\n",
    "OpenAIClient openAIClient = new OpenAIClient(apiEndpoint, azureKeyCredential);\n",
    "\n",
    "#!share --from c# openAIClient --as openAIClient\n",
    "#!share --from c# embeddingModelDeploymentName --as embeddingModelDeploymentName\n"
   ]
  },
  {
   "cell_type": "markdown",
   "metadata": {},
   "source": [
    "### Step 2: Create data\n",
    "\n",
    "The data will be vectorized. It is composed of \n",
    "\n",
    "  - \"ideal data\" copied from the public ACI documentation availiable on the web,\n",
    "  - \"distracting data\" from the public AKS documention available on the web\n",
    "  - \"distracting data\" from [The Complete Works of William Shakespeare books](https://www.gutenberg.org/cache/epub/100/pg100.txt)\n",
    "\n",
    "The data is used to ground a LLM query asking information about \"ACI container hosting alternatives\""
   ]
  },
  {
   "cell_type": "code",
   "execution_count": 5,
   "metadata": {
    "dotnet_interactive": {
     "language": "csharp"
    },
    "polyglot_notebook": {
     "kernelName": "csharp"
    }
   },
   "outputs": [
    {
     "name": "stdout",
     "output_type": "stream",
     "text": [
      "Query, 'optimal data' and 'distracting data' defined\r\n"
     ]
    }
   ],
   "source": [
    "//Query data for vector search\n",
    "string query = \"aci container hosting alternatives\"; \n",
    "\n",
    "//\"Optimal data\" - Copied from the public ACI documentation\n",
    "string acifacts = await File.ReadAllTextAsync(Path.Combine(\"assets\", \"acifacts.txt\"));\n",
    "//\"Disctracting data\" - Copied from the public AKS documentation - somehow related to ACI\n",
    "string aksfacts = await File.ReadAllTextAsync(Path.Combine(\"assets\", \"aksfacts.txt\"));\n",
    "//\"Distracting data\" - From the free ebook \"The complete works of William Shakespeare\"\n",
    "string shakespearefacts = (await File.ReadAllTextAsync(Path.Combine(\"assets\", \"shakespearefacts.txt\"))).Replace(\"\\r\\n\", \" \");\n",
    "\n",
    "//\"Distracting Data\" - Starting with the \"optimal data\" - followed by a % of Shakespeare information\n",
    "string distractedGrounding_100_25 = String.Join(acifacts, \" \", shakespearefacts.Substring(0, (int)(acifacts.Length * 0.25)));\n",
    "string distractedGrounding_100_50 = string.Join(acifacts, \" \", shakespearefacts.Substring(0, (int)(acifacts.Length * 0.5)));\n",
    "string distractedGrounding_100_75 = string.Join(acifacts, \" \", shakespearefacts.Substring(0, (int)(acifacts.Length * 0.75)));\n",
    "string distractedGrounding_100_100_aci = string.Join(acifacts, \" \", shakespearefacts.Substring(0, acifacts.Length));\n",
    "\n",
    "//\"Distracting Data\" - Starting with a % of Shakespeare information - followed by the \"optimal data\"\n",
    "string distractedGrounding_25_100 = string.Join(shakespearefacts.Substring(0, (int)(acifacts.Length * 0.25)), \" \", acifacts);\n",
    "string distractedGrounding_50_100 = string.Join(shakespearefacts.Substring(0, (int)(acifacts.Length * 0.5)), \" \", acifacts);\n",
    "string distractedGrounding_75_100 = string.Join(shakespearefacts.Substring(0, (int)(acifacts.Length * 0.75)), \" \", acifacts);\n",
    "string distractedGrounding_100_100_sp = string.Join(shakespearefacts.Substring(0, acifacts.Length), \" \", acifacts);\n",
    "\n",
    "//\"Distracting Data\" - A mix of ACI and AKS information\n",
    "string distracted_aci_aks = string.Concat(acifacts, \" \", aksfacts); \n",
    "string distracted_aks_aci = string.Concat(aksfacts, \" \", acifacts);\n",
    "\n",
    "Console.WriteLine(\"Query, 'optimal data' and 'distracting data' defined\");\n",
    "\n",
    "#!share --from c# acifacts --as acifacts\n",
    "#!share --from c# aksfacts --as aksfacts\n",
    "#!share --from c# shakespearefacts --as shakespearefacts\n",
    "#!share --from c# distractedGrounding_100_25 --as distractedGrounding_100_25\n",
    "#!share --from c# distractedGrounding_100_50 --as distractedGrounding_100_50\n",
    "#!share --from c# distractedGrounding_100_75 --as distractedGrounding_100_75\n",
    "#!share --from c# distractedGrounding_100_100_aci --as distractedGrounding_100_100_aci\n",
    "#!share --from c# distractedGrounding_25_100 --as distractedGrounding_25_100\n",
    "#!share --from c# distractedGrounding_50_100 --as distractedGrounding_50_100\n",
    "#!share --from c# distractedGrounding_75_100 --as distractedGrounding_75_100\n",
    "#!share --from c# distractedGrounding_100_100_sp --as distractedGrounding_100_100_sp\n",
    "#!share --from c# distracted_aci_aks --as distracted_aci_aks\n",
    "#!share --from c# distracted_aks_aci --as distracted_aks_aci\n"
   ]
  },
  {
   "cell_type": "markdown",
   "metadata": {},
   "source": [
    "### Step 3: Vectorize data\n",
    "\n",
    "By using Azure OpenAI embedding models an embedding or vector representation of the data will be calculated.\n"
   ]
  },
  {
   "cell_type": "code",
   "execution_count": 11,
   "metadata": {
    "dotnet_interactive": {
     "language": "csharp"
    },
    "polyglot_notebook": {
     "kernelName": "csharp"
    }
   },
   "outputs": [
    {
     "name": "stdout",
     "output_type": "stream",
     "text": [
      "Embeddings created...\r\n"
     ]
    }
   ],
   "source": [
    "//Create Embeddings\n",
    "\n",
    "Dictionary<string, double[]> vectors = new Dictionary<string, double[]>();\n",
    "\n",
    "vectors.Add(\"query\", await CreateEmbedding(query));\n",
    "vectors.Add(\"acifacts\", await CreateEmbedding(acifacts));\n",
    "vectors.Add(\"aksfacts\", await CreateEmbedding(aksfacts));\n",
    "vectors.Add(\"shakespearefacts\", await CreateEmbedding(shakespearefacts));\n",
    "vectors.Add(\"distractedGrounding_100_25\", await CreateEmbedding(distractedGrounding_100_25));\n",
    "vectors.Add(\"distractedGrounding_100_50\", await CreateEmbedding(distractedGrounding_100_50));\n",
    "vectors.Add(\"distractedGrounding_100_75\", await CreateEmbedding(distractedGrounding_100_75));\n",
    "vectors.Add(\"distractedGrounding_100_100_aci\", await CreateEmbedding(distractedGrounding_100_100_aci));\n",
    "vectors.Add(\"distractedGrounding_25_100\", await CreateEmbedding(distractedGrounding_25_100));\n",
    "vectors.Add(\"distractedGrounding_50_100\", await CreateEmbedding(distractedGrounding_50_100));\n",
    "vectors.Add(\"distractedGrounding_75_100\", await CreateEmbedding(distractedGrounding_75_100));\n",
    "vectors.Add(\"distractedGrounding_100_100_sp\", await CreateEmbedding(distractedGrounding_100_100_sp));\n",
    "vectors.Add(\"distracted_aci_aks\", await CreateEmbedding(distracted_aci_aks));\n",
    "vectors.Add(\"distracted_aks_aci\", await CreateEmbedding(distracted_aks_aci));\n",
    "\n",
    "//Store embeddings\n",
    "foreach(KeyValuePair<string, double[]> vector in vectors)\n",
    "{\n",
    "    string vectorString = String.Join(\",\", vector.Value);\n",
    "    await File.WriteAllTextAsync(Path.Combine(\"assets\", $\"vector_{vector.Key}.txt\"), vectorString);\n",
    "}\n",
    "\n",
    "private async Task<double[]> CreateEmbedding(string query)\n",
    "{\n",
    "    EmbeddingsOptions embeddingsOptions; \n",
    "    embeddingsOptions = new EmbeddingsOptions(query);\n",
    "    Response<Embeddings> embedding = await openAIClient.GetEmbeddingsAsync(embeddingModelDeploymentName, embeddingsOptions); \n",
    "\n",
    "    return Array.ConvertAll(embedding.Value.Data[0].Embedding.ToArray(), x => (double)x);\n",
    "}\n",
    "\n",
    "Console.WriteLine(\"Embeddings created...\");\n",
    "\n",
    "#!share --from c# vectors --as vectors"
   ]
  },
  {
   "cell_type": "markdown",
   "metadata": {},
   "source": [
    "### Step 4: Calculate Cosine distance \n",
    "\n",
    "The cosine distance between the query and the created embeddings are calculated and results are compared."
   ]
  },
  {
   "cell_type": "code",
   "execution_count": 18,
   "metadata": {
    "dotnet_interactive": {
     "language": "csharp"
    },
    "polyglot_notebook": {
     "kernelName": "csharp"
    }
   },
   "outputs": [
    {
     "name": "stdout",
     "output_type": "stream",
     "text": [
      "\n",
      "Cosine distance:\n",
      "Cosine distance between query and acifacts: 0.1867628581649723\n",
      "Cosine distance between query and aksfacts: 0.2501981790410386\n",
      "Cosine distance between query and shakespearefacts: 0.36902545449461466\n",
      "Cosine distance between query and distractedGrounding_100_25: 0.18919742913467197\n",
      "Cosine distance between query and distractedGrounding_100_50: 0.1942534476349791\n",
      "Cosine distance between query and distractedGrounding_100_75: 0.19264550879180653\n",
      "Cosine distance between query and distractedGrounding_100_100_aci: 0.18931963697269438\n",
      "Cosine distance between query and distractedGrounding_25_100: 0.21192521407481446\n",
      "Cosine distance between query and distractedGrounding_50_100: 0.22273735568962805\n",
      "Cosine distance between query and distractedGrounding_75_100: 0.22685229402738571\n",
      "Cosine distance between query and distractedGrounding_100_100_sp: 0.22190080773419452\n",
      "Cosine distance between query and distracted_aci_aks: 0.19082755856911848\n",
      "Cosine distance between query and distracted_aks_aci: 0.20782505559110165 \n",
      "\n",
      "\n",
      "Compare results:\n",
      "Deviation: non matching facts: \t 97.5904 %\n",
      "Deviation: similar facts 'AKS': \t 33.9657 % \n",
      "\n",
      "Distracting data after and before facts\n",
      "Deviation:25 % 'distracting data' after facts: \t 1.3036 %\n",
      "Deviation:25 % 'distracting data' before facts: \t 13.4729 % \n",
      "\n",
      "Deviation:50 % 'distracting data' after facts: \t 4.0107 %\n",
      "Deviation:50 % 'distracting data' before facts: \t 19.2621 % \n",
      "\n",
      "Deviation:75 % 'distracting data' after facts: \t 3.1498 %\n",
      "Deviation:75 % 'distracting data' before facts: \t 21.4654 %  \n",
      "\n",
      "Deviation:100 % 'distracting data' after facts: \t 1.369 %\n",
      "Deviation:100 % 'distracting data' before facts: \t 18.8142 %  \n",
      "\n"
     ]
    }
   ],
   "source": [
    "//Calculate Distances\n",
    "Console.WriteLine($\"\\nCosine distance:\");\n",
    "double distance_aci = Distance.Cosine(vectors[\"query\"], vectors[\"acifacts\"]);\n",
    "Console.WriteLine($\"Cosine distance between query and acifacts: {distance_aci}\");\n",
    "\n",
    "double distance_aks = Distance.Cosine(vectors[\"query\"], vectors[\"aksfacts\"]);\n",
    "Console.WriteLine($\"Cosine distance between query and aksfacts: {distance_aks}\");\n",
    "\n",
    "double distance_sp = Distance.Cosine(vectors[\"query\"], vectors[\"shakespearefacts\"]);\n",
    "Console.WriteLine($\"Cosine distance between query and shakespearefacts: {distance_sp}\");\n",
    "\n",
    "double distance_100_25 = Distance.Cosine(vectors[\"query\"], vectors[\"distractedGrounding_100_25\"]);\n",
    "Console.WriteLine($\"Cosine distance between query and distractedGrounding_100_25: {distance_100_25}\");\n",
    "\n",
    "double distance_100_50 = Distance.Cosine(vectors[\"query\"], vectors[\"distractedGrounding_100_50\"]);\n",
    "Console.WriteLine($\"Cosine distance between query and distractedGrounding_100_50: {distance_100_50}\");\n",
    "\n",
    "double distance_100_75 = Distance.Cosine(vectors[\"query\"], vectors[\"distractedGrounding_100_75\"]);\n",
    "Console.WriteLine($\"Cosine distance between query and distractedGrounding_100_75: {distance_100_75}\");\n",
    "\n",
    "double distance_100_100_aci = Distance.Cosine(vectors[\"query\"], vectors[\"distractedGrounding_100_100_aci\"]);\n",
    "Console.WriteLine($\"Cosine distance between query and distractedGrounding_100_100_aci: {distance_100_100_aci}\");\n",
    "\n",
    "double distance_25_100 = Distance.Cosine(vectors[\"query\"], vectors[\"distractedGrounding_25_100\"]);\n",
    "Console.WriteLine($\"Cosine distance between query and distractedGrounding_25_100: {distance_25_100}\"); \n",
    "\n",
    "double distance_50_100 = Distance.Cosine(vectors[\"query\"], vectors[\"distractedGrounding_50_100\"]);\n",
    "Console.WriteLine($\"Cosine distance between query and distractedGrounding_50_100: {distance_50_100}\");\n",
    "\n",
    "double distance_75_100 = Distance.Cosine(vectors[\"query\"], vectors[\"distractedGrounding_75_100\"]);\n",
    "Console.WriteLine($\"Cosine distance between query and distractedGrounding_75_100: {distance_75_100}\");\n",
    "\n",
    "double distance_100_100_sp = Distance.Cosine(vectors[\"query\"], vectors[\"distractedGrounding_100_100_sp\"]);\n",
    "Console.WriteLine($\"Cosine distance between query and distractedGrounding_100_100_sp: {distance_100_100_sp}\");\n",
    "\n",
    "double distance_aci_aks = Distance.Cosine(vectors[\"query\"], vectors[\"distracted_aci_aks\"]);\n",
    "Console.WriteLine($\"Cosine distance between query and distracted_aci_aks: {distance_aci_aks}\");\n",
    "\n",
    "double distance_aks_aci = Distance.Cosine(vectors[\"query\"], vectors[\"distracted_aks_aci\"]);\n",
    "Console.WriteLine($\"Cosine distance between query and distracted_aks_aci: {distance_aks_aci} \\n\\n\");\n",
    "\n",
    "\n",
    "//Compare results\n",
    "Console.WriteLine($\"Compare results:\");\n",
    "Console.WriteLine($\"Deviation: non matching facts: \\t {Math.Round(Math.Abs(distance_aci - distance_sp) / distance_aci * 100, 4)} %\");\n",
    "Console.WriteLine($\"Deviation: similar facts 'AKS': \\t {Math.Round(Math.Abs(distance_aci - distance_aks) / distance_aci * 100, 4)} % \\n\");\n",
    "\n",
    "Console.WriteLine($\"Distracting data after and before facts\");\n",
    "Console.WriteLine($\"Deviation:25 % 'distracting data' after facts: \\t {Math.Round(Math.Abs(distance_aci - distance_100_25) / distance_aci * 100, 4)} %\");\n",
    "Console.WriteLine($\"Deviation:25 % 'distracting data' before facts: \\t {Math.Round(Math.Abs(distance_aci - distance_25_100) / distance_aci * 100, 4)} % \\n\");\n",
    "    \n",
    "Console.WriteLine($\"Deviation:50 % 'distracting data' after facts: \\t {Math.Round(Math.Abs(distance_aci - distance_100_50) / distance_aci * 100, 4)} %\");\n",
    "Console.WriteLine($\"Deviation:50 % 'distracting data' before facts: \\t {Math.Round(Math.Abs(distance_aci - distance_50_100) / distance_aci * 100, 4)} % \\n\");\n",
    "\n",
    "Console.WriteLine($\"Deviation:75 % 'distracting data' after facts: \\t {Math.Round(Math.Abs(distance_aci - distance_100_75) / distance_aci * 100, 4)} %\");\n",
    "Console.WriteLine($\"Deviation:75 % 'distracting data' before facts: \\t {Math.Round(Math.Abs(distance_aci - distance_75_100) / distance_aci * 100, 4)} %  \\n\");\n",
    "\n",
    "Console.WriteLine($\"Deviation:100 % 'distracting data' after facts: \\t {Math.Round(Math.Abs(distance_aci - distance_100_100_aci) / distance_aci * 100, 4)} %\");\n",
    "Console.WriteLine($\"Deviation:100 % 'distracting data' before facts: \\t {Math.Round(Math.Abs(distance_aci - distance_100_100_sp) / distance_aci * 100, 4)} %  \\n\");\n"
   ]
  },
  {
   "cell_type": "markdown",
   "metadata": {},
   "source": [
    "### Results\n",
    "```\n",
    "Cosine distance:\n",
    "Cosine distance between query and acifacts: 0.1867628581649723\n",
    "Cosine distance between query and aksfacts: 0.2501981790410386\n",
    "Cosine distance between query and shakespearefacts: 0.36902545449461466\n",
    "Cosine distance between query and distractedGrounding_100_25: 0.18919742913467197\n",
    "Cosine distance between query and distractedGrounding_100_50: 0.1942534476349791\n",
    "Cosine distance between query and distractedGrounding_100_75: 0.19264550879180653\n",
    "Cosine distance between query and distractedGrounding_100_100_aci: 0.18931963697269438\n",
    "Cosine distance between query and distractedGrounding_25_100: 0.21192521407481446\n",
    "Cosine distance between query and distractedGrounding_50_100: 0.22273735568962805\n",
    "Cosine distance between query and distractedGrounding_75_100: 0.22685229402738571\n",
    "Cosine distance between query and distractedGrounding_100_100_sp: 0.22190080773419452\n",
    "Cosine distance between query and distracted_aci_aks: 0.19082755856911848\n",
    "Cosine distance between query and distracted_aks_aci: 0.20782505559110165 \n",
    "\n",
    "\n",
    "Compare results:\n",
    "Deviation: non matching facts: \t 97.5904 %\n",
    "Deviation: similar facts 'AKS':\t 33.9657 % \n",
    "\n",
    "Distracting data after and before facts\n",
    "Deviation:25 % 'distracting data' after facts: \t 1.3036 %\n",
    "Deviation:25 % 'distracting data' before facts:  13.4729 % \n",
    "\n",
    "Deviation:50 % 'distracting data' after facts: \t 4.0107 %\n",
    "Deviation:50 % 'distracting data' before facts:  19.2621 % \n",
    "\n",
    "Deviation:75 % 'distracting data' after facts: \t 3.1498 %\n",
    "Deviation:75 % 'distracting data' before facts:  21.4654 %  \n",
    "\n",
    "Deviation:100 % 'distracting data' after facts:  1.369 %\n",
    "Deviation:100 % 'distracting data' before facts: 18.8142 % \n",
    "```"
   ]
  }
 ],
 "metadata": {
  "kernelspec": {
   "display_name": ".NET (C#)",
   "language": "C#",
   "name": ".net-csharp"
  },
  "language_info": {
   "name": "polyglot-notebook"
  },
  "polyglot_notebook": {
   "kernelInfo": {
    "defaultKernelName": "csharp",
    "items": [
     {
      "aliases": [],
      "languageName": "csharp",
      "name": "csharp"
     }
    ]
   }
  }
 },
 "nbformat": 4,
 "nbformat_minor": 2
}
